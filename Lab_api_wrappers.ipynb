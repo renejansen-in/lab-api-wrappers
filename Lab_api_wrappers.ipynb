{
 "cells": [
  {
   "cell_type": "markdown",
   "id": "f8280fc1",
   "metadata": {},
   "source": [
    "# Lab | API Wrappers\n",
    "\n",
    "\n"
   ]
  },
  {
   "cell_type": "code",
   "execution_count": 1,
   "id": "5a549b94",
   "metadata": {},
   "outputs": [],
   "source": [
    "from bs4 import BeautifulSoup\n",
    "import requests\n",
    "import pandas as pd\n",
    "from random import randint  # for random wait time respectful scraping\n",
    "from time import sleep      # sleep function"
   ]
  },
  {
   "cell_type": "markdown",
   "id": "e2fe0c98",
   "metadata": {},
   "source": [
    "## Lab 6.01"
   ]
  },
  {
   "cell_type": "code",
   "execution_count": 2,
   "id": "30c8f98f",
   "metadata": {},
   "outputs": [
    {
     "data": {
      "text/plain": [
       "200"
      ]
     },
     "execution_count": 2,
     "metadata": {},
     "output_type": "execute_result"
    }
   ],
   "source": [
    "url = \"https://www.billboard.com/charts/hot-100/\"\n",
    "response = requests.get(url)\n",
    "response.status_code # 200 status code means OK!\n"
   ]
  },
  {
   "cell_type": "code",
   "execution_count": 3,
   "id": "17dcde5d",
   "metadata": {},
   "outputs": [],
   "source": [
    "soup = BeautifulSoup(response.content, \"html.parser\")\n",
    "# soup"
   ]
  },
  {
   "cell_type": "code",
   "execution_count": 4,
   "id": "2c6d0f0c",
   "metadata": {},
   "outputs": [],
   "source": [
    "#post-1479786 > div.pmc-paywall > div > div > div > div.chart-results-list.\\/\\/.lrv-u-padding-t-150.lrv-u-padding-t-050\\@mobile-max > div:nth-child(14) > ul > li.lrv-u-width-100p > ul > li.o-chart-results-list__item.\\/\\/.lrv-u-flex-grow-1.lrv-u-flex.lrv-u-flex-direction-column.lrv-u-justify-content-center.lrv-u-border-b-1.u-border-b-0\\@mobile-max.lrv-u-border-color-grey-light.lrv-u-padding-l-050.lrv-u-padding-l-1\\@mobile-max\n",
    "# ul > li.o-chart-results-list__item\n"
   ]
  },
  {
   "cell_type": "code",
   "execution_count": 5,
   "id": "d28eac28",
   "metadata": {},
   "outputs": [],
   "source": [
    "#soup.select(\"#post-1479786 > div.pmc-paywall > div > div > div > div.chart-results-list.\\/\\/.lrv-u-padding-t-150.lrv-u-padding-t-050\\@mobile-max > div:nth-child(8) > ul > li.lrv-u-width-100p > ul > li.o-chart-results-list__item.\\/\\/.lrv-u-flex-grow-1.lrv-u-flex.lrv-u-flex-direction-column.lrv-u-justify-content-center.lrv-u-border-b-1.u-border-b-0\\@mobile-max.lrv-u-border-color-grey-light.lrv-u-padding-l-050.lrv-u-padding-l-1\\@mobile-max\")\n"
   ]
  },
  {
   "cell_type": "code",
   "execution_count": 6,
   "id": "cd92d79e",
   "metadata": {},
   "outputs": [],
   "source": [
    "#soup.select(\"li.o-chart-results-list__item\")[0]"
   ]
  },
  {
   "cell_type": "code",
   "execution_count": 7,
   "id": "a351e519",
   "metadata": {},
   "outputs": [],
   "source": [
    "# for i in soup.select(\"li.o-chart-results-list__item > h3\"):    # specific syntax\n",
    "#     print(i.get_text())"
   ]
  },
  {
   "cell_type": "code",
   "execution_count": 8,
   "id": "919c8058",
   "metadata": {},
   "outputs": [
    {
     "data": {
      "text/plain": [
       "200"
      ]
     },
     "execution_count": 8,
     "metadata": {},
     "output_type": "execute_result"
    }
   ],
   "source": [
    "len(soup.select(\"li.o-chart-results-list__item > h3\"))\n",
    "len(soup.select(\"li.o-chart-results-list__item > span:nth-child(2)\"))\n",
    "len(soup.select(\"li.lrv-u-width-100p > ul > li.o-chart-results-list__item:nth-child(1)\"))"
   ]
  },
  {
   "cell_type": "code",
   "execution_count": 9,
   "id": "d374e6ab",
   "metadata": {},
   "outputs": [],
   "source": [
    "song_artist = []\n",
    "for i in soup.select(\"li.lrv-u-width-100p > ul > li.o-chart-results-list__item:nth-child(1)\"):\n",
    "    #print(i.get_text())\n",
    "    song_artist.append(i.get_text())"
   ]
  },
  {
   "cell_type": "code",
   "execution_count": 10,
   "id": "0f0ec57c",
   "metadata": {},
   "outputs": [],
   "source": [
    "#song_artist"
   ]
  },
  {
   "cell_type": "code",
   "execution_count": 11,
   "id": "fd213634",
   "metadata": {},
   "outputs": [],
   "source": [
    "song = []\n",
    "artist = []\n",
    "for i in song_artist:\n",
    "    i = i.split('\\n\\n\\n')\n",
    "    if len(i) == 2:\n",
    "        artist.append(i[1].replace('\\n\\n','').lstrip())\n",
    "        song.append(i[0].replace('\\n\\n',''))"
   ]
  },
  {
   "cell_type": "code",
   "execution_count": 12,
   "id": "a21deec4",
   "metadata": {},
   "outputs": [
    {
     "data": {
      "text/plain": [
       "[\"All Too Well (Taylor's Version)\",\n",
       " 'Easy On Me',\n",
       " 'Stay',\n",
       " 'Industry Baby',\n",
       " 'Smokin Out The Window',\n",
       " 'Bad Habits',\n",
       " 'Shivers',\n",
       " 'Heat Waves',\n",
       " 'Need To Know',\n",
       " 'Fancy Like']"
      ]
     },
     "execution_count": 12,
     "metadata": {},
     "output_type": "execute_result"
    }
   ],
   "source": [
    "song[0:10]"
   ]
  },
  {
   "cell_type": "code",
   "execution_count": 13,
   "id": "7a99b345",
   "metadata": {},
   "outputs": [
    {
     "data": {
      "text/plain": [
       "['Taylor Swift',\n",
       " 'Adele',\n",
       " 'The Kid LAROI & Justin Bieber',\n",
       " 'Lil Nas X & Jack Harlow',\n",
       " 'Silk Sonic (Bruno Mars & Anderson .Paak)',\n",
       " 'Ed Sheeran',\n",
       " 'Ed Sheeran',\n",
       " 'Glass Animals',\n",
       " 'Doja Cat',\n",
       " 'Walker Hayes']"
      ]
     },
     "execution_count": 13,
     "metadata": {},
     "output_type": "execute_result"
    }
   ],
   "source": [
    "artist[0:10]"
   ]
  },
  {
   "cell_type": "code",
   "execution_count": 14,
   "id": "816fddd9",
   "metadata": {},
   "outputs": [],
   "source": [
    "hot100 = pd.DataFrame({\"song\":song,\n",
    "                       \"artist\":artist\n",
    "                      })"
   ]
  },
  {
   "cell_type": "code",
   "execution_count": 15,
   "id": "2b473bd5",
   "metadata": {},
   "outputs": [
    {
     "data": {
      "text/html": [
       "<div>\n",
       "<style scoped>\n",
       "    .dataframe tbody tr th:only-of-type {\n",
       "        vertical-align: middle;\n",
       "    }\n",
       "\n",
       "    .dataframe tbody tr th {\n",
       "        vertical-align: top;\n",
       "    }\n",
       "\n",
       "    .dataframe thead th {\n",
       "        text-align: right;\n",
       "    }\n",
       "</style>\n",
       "<table border=\"1\" class=\"dataframe\">\n",
       "  <thead>\n",
       "    <tr style=\"text-align: right;\">\n",
       "      <th></th>\n",
       "      <th>song</th>\n",
       "      <th>artist</th>\n",
       "    </tr>\n",
       "  </thead>\n",
       "  <tbody>\n",
       "    <tr>\n",
       "      <th>0</th>\n",
       "      <td>All Too Well (Taylor's Version)</td>\n",
       "      <td>Taylor Swift</td>\n",
       "    </tr>\n",
       "    <tr>\n",
       "      <th>1</th>\n",
       "      <td>Easy On Me</td>\n",
       "      <td>Adele</td>\n",
       "    </tr>\n",
       "    <tr>\n",
       "      <th>2</th>\n",
       "      <td>Stay</td>\n",
       "      <td>The Kid LAROI &amp; Justin Bieber</td>\n",
       "    </tr>\n",
       "    <tr>\n",
       "      <th>3</th>\n",
       "      <td>Industry Baby</td>\n",
       "      <td>Lil Nas X &amp; Jack Harlow</td>\n",
       "    </tr>\n",
       "    <tr>\n",
       "      <th>4</th>\n",
       "      <td>Smokin Out The Window</td>\n",
       "      <td>Silk Sonic (Bruno Mars &amp; Anderson .Paak)</td>\n",
       "    </tr>\n",
       "  </tbody>\n",
       "</table>\n",
       "</div>"
      ],
      "text/plain": [
       "                              song                                    artist\n",
       "0  All Too Well (Taylor's Version)                              Taylor Swift\n",
       "1                       Easy On Me                                     Adele\n",
       "2                             Stay             The Kid LAROI & Justin Bieber\n",
       "3                    Industry Baby                   Lil Nas X & Jack Harlow\n",
       "4            Smokin Out The Window  Silk Sonic (Bruno Mars & Anderson .Paak)"
      ]
     },
     "execution_count": 15,
     "metadata": {},
     "output_type": "execute_result"
    }
   ],
   "source": [
    "# YEAH ,I cracked the Billboard Hot-100 !!!!!\n",
    "hot100.head(5)"
   ]
  },
  {
   "cell_type": "markdown",
   "id": "dd9b0722",
   "metadata": {},
   "source": [
    "## Lab 6.02"
   ]
  },
  {
   "cell_type": "code",
   "execution_count": 16,
   "id": "81910394",
   "metadata": {},
   "outputs": [
    {
     "name": "stdout",
     "output_type": "stream",
     "text": [
      "processed: https://playback.fm/charts/top-100-songs/1969 with wait time: 3 - songs: 100 artists: 100\n",
      "processed: https://playback.fm/charts/top-100-songs/1970 with wait time: 4 - songs: 200 artists: 200\n",
      "processed: https://playback.fm/charts/top-100-songs/1971 with wait time: 3 - songs: 300 artists: 300\n",
      "processed: https://playback.fm/charts/top-100-songs/1972 with wait time: 1 - songs: 400 artists: 400\n",
      "processed: https://playback.fm/charts/top-100-songs/1973 with wait time: 3 - songs: 500 artists: 500\n",
      "processed: https://playback.fm/charts/top-100-songs/1974 with wait time: 4 - songs: 600 artists: 600\n",
      "processed: https://playback.fm/charts/top-100-songs/1975 with wait time: 3 - songs: 700 artists: 700\n",
      "processed: https://playback.fm/charts/top-100-songs/1976 with wait time: 1 - songs: 800 artists: 800\n",
      "processed: https://playback.fm/charts/top-100-songs/1977 with wait time: 3 - songs: 900 artists: 900\n",
      "processed: https://playback.fm/charts/top-100-songs/1978 with wait time: 2 - songs: 1000 artists: 1000\n",
      "processed: https://playback.fm/charts/top-100-songs/1979 with wait time: 3 - songs: 1100 artists: 1100\n",
      "processed: https://playback.fm/charts/top-100-songs/1980 with wait time: 2 - songs: 1200 artists: 1200\n",
      "processed: https://playback.fm/charts/top-100-songs/1981 with wait time: 4 - songs: 1300 artists: 1300\n",
      "processed: https://playback.fm/charts/top-100-songs/1982 with wait time: 3 - songs: 1400 artists: 1400\n",
      "processed: https://playback.fm/charts/top-100-songs/1983 with wait time: 3 - songs: 1500 artists: 1500\n",
      "processed: https://playback.fm/charts/top-100-songs/1984 with wait time: 1 - songs: 1600 artists: 1600\n",
      "processed: https://playback.fm/charts/top-100-songs/1985 with wait time: 3 - songs: 1700 artists: 1700\n",
      "processed: https://playback.fm/charts/top-100-songs/1986 with wait time: 3 - songs: 1800 artists: 1800\n",
      "processed: https://playback.fm/charts/top-100-songs/1987 with wait time: 1 - songs: 1900 artists: 1900\n",
      "processed: https://playback.fm/charts/top-100-songs/1988 with wait time: 2 - songs: 2000 artists: 2000\n",
      "processed: https://playback.fm/charts/top-100-songs/1989 with wait time: 1 - songs: 2100 artists: 2100\n",
      "processed: https://playback.fm/charts/top-100-songs/1990 with wait time: 2 - songs: 2200 artists: 2200\n",
      "processed: https://playback.fm/charts/top-100-songs/1991 with wait time: 4 - songs: 2300 artists: 2300\n",
      "processed: https://playback.fm/charts/top-100-songs/1992 with wait time: 1 - songs: 2400 artists: 2400\n",
      "processed: https://playback.fm/charts/top-100-songs/1993 with wait time: 1 - songs: 2500 artists: 2500\n",
      "processed: https://playback.fm/charts/top-100-songs/1994 with wait time: 3 - songs: 2600 artists: 2600\n",
      "processed: https://playback.fm/charts/top-100-songs/1995 with wait time: 3 - songs: 2699 artists: 2699\n",
      "processed: https://playback.fm/charts/top-100-songs/1996 with wait time: 2 - songs: 2799 artists: 2799\n",
      "processed: https://playback.fm/charts/top-100-songs/1997 with wait time: 4 - songs: 2899 artists: 2899\n",
      "processed: https://playback.fm/charts/top-100-songs/1998 with wait time: 1 - songs: 2999 artists: 2999\n",
      "processed: https://playback.fm/charts/top-100-songs/1999 with wait time: 3 - songs: 3099 artists: 3099\n",
      "processed: https://playback.fm/charts/top-100-songs/2000 with wait time: 3 - songs: 3199 artists: 3199\n",
      "processed: https://playback.fm/charts/top-100-songs/2001 with wait time: 3 - songs: 3299 artists: 3299\n",
      "processed: https://playback.fm/charts/top-100-songs/2002 with wait time: 3 - songs: 3399 artists: 3399\n",
      "processed: https://playback.fm/charts/top-100-songs/2003 with wait time: 2 - songs: 3499 artists: 3499\n",
      "processed: https://playback.fm/charts/top-100-songs/2004 with wait time: 1 - songs: 3599 artists: 3599\n",
      "processed: https://playback.fm/charts/top-100-songs/2005 with wait time: 4 - songs: 3699 artists: 3699\n",
      "processed: https://playback.fm/charts/top-100-songs/2006 with wait time: 1 - songs: 3799 artists: 3799\n",
      "processed: https://playback.fm/charts/top-100-songs/2007 with wait time: 1 - songs: 3899 artists: 3899\n",
      "processed: https://playback.fm/charts/top-100-songs/2008 with wait time: 2 - songs: 3999 artists: 3999\n",
      "processed: https://playback.fm/charts/top-100-songs/2009 with wait time: 2 - songs: 4099 artists: 4099\n",
      "processed: https://playback.fm/charts/top-100-songs/2010 with wait time: 2 - songs: 4199 artists: 4199\n",
      "processed: https://playback.fm/charts/top-100-songs/2011 with wait time: 1 - songs: 4299 artists: 4299\n",
      "processed: https://playback.fm/charts/top-100-songs/2012 with wait time: 1 - songs: 4399 artists: 4399\n",
      "processed: https://playback.fm/charts/top-100-songs/2013 with wait time: 1 - songs: 4498 artists: 4498\n",
      "processed: https://playback.fm/charts/top-100-songs/2014 with wait time: 1 - songs: 4597 artists: 4597\n",
      "processed: https://playback.fm/charts/top-100-songs/2015 with wait time: 2 - songs: 4697 artists: 4697\n",
      "processed: https://playback.fm/charts/top-100-songs/2016 with wait time: 1 - songs: 4797 artists: 4797\n"
     ]
    },
    {
     "data": {
      "text/plain": [
       "(4797, 2)"
      ]
     },
     "execution_count": 16,
     "metadata": {},
     "output_type": "execute_result"
    }
   ],
   "source": [
    "# using header to avoind 403 error, server thinks I am a just a user browsing\n",
    "header = {\n",
    "  \"User-Agent\": \"Mozilla/5.0 (X11; Linux x86_64) AppleWebKit/537.36 (KHTML, like Gecko) Chrome/50.0.2661.75 Safari/537.36\",\n",
    "  \"X-Requested-With\": \"XMLHttpRequest\"\n",
    "}\n",
    "\n",
    "artist = []\n",
    "song = []\n",
    "years = range(1969, 2017)\n",
    "\n",
    "for y in years:\n",
    "    start_at= str(y)\n",
    "    wait_time = randint(1,4)\n",
    "    sleep(wait_time)\n",
    "    url = \"https://playback.fm/charts/top-100-songs/\" + start_at \n",
    "    response = requests.get(url, headers=header)\n",
    "    soup = BeautifulSoup(response.content, \"html.parser\")\n",
    "    for i in soup.select(\"td:nth-child(2) > a\"):\n",
    "        i = i.get_text()\n",
    "        i = i.replace('\\n','')\n",
    "        artist.append(i)    \n",
    "    for i in soup.select(\"td.mobile-hide > a > span.song\"):\n",
    "        i = i.get_text()\n",
    "        song.append(i) \n",
    "    print(\"processed:\", url, \"with wait time:\", wait_time, \"- songs:\", len(song), \"artists:\", len(artist))\n",
    "top_100 = pd.DataFrame({\"song\":song, \"artist\":artist})  \n",
    "top_100.shape"
   ]
  },
  {
   "cell_type": "code",
   "execution_count": 17,
   "id": "5a63fb7a",
   "metadata": {},
   "outputs": [
    {
     "data": {
      "text/html": [
       "<div>\n",
       "<style scoped>\n",
       "    .dataframe tbody tr th:only-of-type {\n",
       "        vertical-align: middle;\n",
       "    }\n",
       "\n",
       "    .dataframe tbody tr th {\n",
       "        vertical-align: top;\n",
       "    }\n",
       "\n",
       "    .dataframe thead th {\n",
       "        text-align: right;\n",
       "    }\n",
       "</style>\n",
       "<table border=\"1\" class=\"dataframe\">\n",
       "  <thead>\n",
       "    <tr style=\"text-align: right;\">\n",
       "      <th></th>\n",
       "      <th>song</th>\n",
       "      <th>artist</th>\n",
       "    </tr>\n",
       "  </thead>\n",
       "  <tbody>\n",
       "    <tr>\n",
       "      <th>0</th>\n",
       "      <td>Get Back</td>\n",
       "      <td>The Beatles</td>\n",
       "    </tr>\n",
       "    <tr>\n",
       "      <th>1</th>\n",
       "      <td>Sugar Sugar</td>\n",
       "      <td>Archies</td>\n",
       "    </tr>\n",
       "    <tr>\n",
       "      <th>2</th>\n",
       "      <td>In the Year 2525 (Exordium &amp; Terminus)</td>\n",
       "      <td>Zager &amp; Evans</td>\n",
       "    </tr>\n",
       "    <tr>\n",
       "      <th>3</th>\n",
       "      <td>Honky Tonk Woman</td>\n",
       "      <td>The Rolling Stones</td>\n",
       "    </tr>\n",
       "    <tr>\n",
       "      <th>4</th>\n",
       "      <td>Suspicious Minds</td>\n",
       "      <td>Elvis Presley</td>\n",
       "    </tr>\n",
       "  </tbody>\n",
       "</table>\n",
       "</div>"
      ],
      "text/plain": [
       "                                     song              artist\n",
       "0                                Get Back         The Beatles\n",
       "1                             Sugar Sugar             Archies\n",
       "2  In the Year 2525 (Exordium & Terminus)       Zager & Evans\n",
       "3                        Honky Tonk Woman  The Rolling Stones\n",
       "4                        Suspicious Minds       Elvis Presley"
      ]
     },
     "execution_count": 17,
     "metadata": {},
     "output_type": "execute_result"
    }
   ],
   "source": [
    "top_100.head()"
   ]
  },
  {
   "cell_type": "markdown",
   "id": "5001f125",
   "metadata": {},
   "source": [
    "## Lab | API Wrappers\n",
    "\n",
    "<br>\n",
    "\n",
    "<details><summary>▶ Instructions:</summary>\n",
    "<p>\n",
    "\n",
    "To move forward with the project, you need to create a collection of songs with their audio features - as large as possible!\n",
    "\n",
    "These are the songs that we will cluster. And, later, when the user inputs a song, we will find the cluster to which the song belongs and recommend a song from the same cluster. The more songs you have, the more accurate and diverse recommendations you'll be able to give. Although... you might want to make sure the collected songs are \"curated\" in a certain way. Try to find playlists of songs that are diverse, but also that meet certain standards.\n",
    "\n",
    "The process of sending hundreds or thousands of requests can take some time - it's normal if you have to wait a few minutes (or, if you're ambitious, even hours) to get all the data you need.\n",
    "\n",
    "An idea for collecting as many songs as possible is to start with all the songs of a big, diverse playlist and then go to every artist present in the playlist and grab every song of every album of that artist. The amount of songs you'll be collecting per playlist will grow exponentially!\n",
    "\n",
    "</p>\n",
    "</details>"
   ]
  },
  {
   "cell_type": "code",
   "execution_count": 18,
   "id": "7d0b1d68",
   "metadata": {},
   "outputs": [],
   "source": [
    "import spotipy\n",
    "from spotipy.oauth2 import SpotifyClientCredentials\n",
    "from random import randint\n",
    "from time import sleep"
   ]
  },
  {
   "cell_type": "code",
   "execution_count": 19,
   "id": "65537aa7",
   "metadata": {},
   "outputs": [],
   "source": [
    "secrets_file = open(\"secrets.txt\",\"r\")\n",
    "string = secrets_file.read()"
   ]
  },
  {
   "cell_type": "code",
   "execution_count": 20,
   "id": "da8921d2",
   "metadata": {},
   "outputs": [],
   "source": [
    "secrets_dict={}\n",
    "for line in string.split('\\n'):\n",
    "    if len(line) > 0:\n",
    "        secrets_dict[line.split(':')[0]]=line.split(':')[1]\n",
    "# secrets_dict"
   ]
  },
  {
   "cell_type": "code",
   "execution_count": 46,
   "id": "d3bb64cb",
   "metadata": {},
   "outputs": [],
   "source": [
    "#Initialize SpotiPy with user credentials\n",
    "sp = spotipy.Spotify(auth_manager=SpotifyClientCredentials(client_id=secrets_dict['cid'],\n",
    "                                                           client_secret=secrets_dict['csecret']))"
   ]
  },
  {
   "cell_type": "code",
   "execution_count": 49,
   "id": "77c620d8",
   "metadata": {},
   "outputs": [
    {
     "data": {
      "text/plain": [
       "10016"
      ]
     },
     "execution_count": 49,
     "metadata": {},
     "output_type": "execute_result"
    }
   ],
   "source": [
    "# long playlist:\n",
    "playlist = sp.user_playlist_tracks(\"spotify\", \"29isGIzk5nnq9J9fnjDgD4\")  # longest playlist on spotify \n",
    "playlist[\"total\"]"
   ]
  },
  {
   "cell_type": "code",
   "execution_count": 50,
   "id": "20242b5a",
   "metadata": {},
   "outputs": [],
   "source": [
    "def get_playlist_tracks(playlist_id):\n",
    "    results = sp.user_playlist_tracks(\"spotify\",playlist_id)\n",
    "    tracks = results['items']\n",
    "    while results['next']!=None:\n",
    "        results = sp.next(results)\n",
    "        tracks = tracks + results['items']\n",
    "        sleep(randint(1,3))\n",
    "    return tracks"
   ]
  },
  {
   "cell_type": "code",
   "execution_count": 51,
   "id": "7fece5e2",
   "metadata": {},
   "outputs": [],
   "source": [
    "# get some coffee\n",
    "all_tracks = get_playlist_tracks(\"37i9dQZF1DWTmvXBN4DgpA\")\n",
    "all_tracks = all_tracks + get_playlist_tracks(\"29isGIzk5nnq9J9fnjDgD4\")"
   ]
  },
  {
   "cell_type": "code",
   "execution_count": 52,
   "id": "87622425",
   "metadata": {},
   "outputs": [
    {
     "data": {
      "text/plain": [
       "12013"
      ]
     },
     "execution_count": 52,
     "metadata": {},
     "output_type": "execute_result"
    }
   ],
   "source": [
    "len(all_tracks)"
   ]
  },
  {
   "cell_type": "code",
   "execution_count": 55,
   "id": "6e1c1887",
   "metadata": {},
   "outputs": [
    {
     "name": "stdout",
     "output_type": "stream",
     "text": [
      "{'added_at': '2020-12-17T17:23:48Z', 'added_by': {'external_urls': {'spotify': 'https://open.spotify.com/user/'}, 'href': 'https://api.spotify.com/v1/users/', 'id': '', 'type': 'user', 'uri': 'spotify:user:'}, 'is_local': False, 'primary_color': None, 'track': {'album': {'album_type': 'album', 'artists': [{'external_urls': {'spotify': 'https://open.spotify.com/artist/1bObiFZkYu7IfzxVlAVj5x'}, 'href': 'https://api.spotify.com/v1/artists/1bObiFZkYu7IfzxVlAVj5x', 'id': '1bObiFZkYu7IfzxVlAVj5x', 'name': 'Danny Vera', 'type': 'artist', 'uri': 'spotify:artist:1bObiFZkYu7IfzxVlAVj5x'}], 'available_markets': [], 'external_urls': {'spotify': 'https://open.spotify.com/album/5mSDSfm25FGQZVuxKi6Gvo'}, 'href': 'https://api.spotify.com/v1/albums/5mSDSfm25FGQZVuxKi6Gvo', 'id': '5mSDSfm25FGQZVuxKi6Gvo', 'images': [{'height': 640, 'url': 'https://i.scdn.co/image/ab67616d0000b273b6f5257037ddb8e194164521', 'width': 640}, {'height': 300, 'url': 'https://i.scdn.co/image/ab67616d00001e02b6f5257037ddb8e194164521', 'width': 300}, {'height': 64, 'url': 'https://i.scdn.co/image/ab67616d00004851b6f5257037ddb8e194164521', 'width': 64}], 'name': 'Pressure Makes Diamonds', 'release_date': '2019-02-15', 'release_date_precision': 'day', 'total_tracks': 12, 'type': 'album', 'uri': 'spotify:album:5mSDSfm25FGQZVuxKi6Gvo'}, 'artists': [{'external_urls': {'spotify': 'https://open.spotify.com/artist/1bObiFZkYu7IfzxVlAVj5x'}, 'href': 'https://api.spotify.com/v1/artists/1bObiFZkYu7IfzxVlAVj5x', 'id': '1bObiFZkYu7IfzxVlAVj5x', 'name': 'Danny Vera', 'type': 'artist', 'uri': 'spotify:artist:1bObiFZkYu7IfzxVlAVj5x'}], 'available_markets': [], 'disc_number': 1, 'duration_ms': 269985, 'episode': False, 'explicit': False, 'external_ids': {'isrc': 'NLB601800405'}, 'external_urls': {'spotify': 'https://open.spotify.com/track/7rO7Pc5dkC2EIW1OKsCJtQ'}, 'href': 'https://api.spotify.com/v1/tracks/7rO7Pc5dkC2EIW1OKsCJtQ', 'id': '7rO7Pc5dkC2EIW1OKsCJtQ', 'is_local': False, 'name': 'Roller Coaster', 'popularity': 1, 'preview_url': None, 'track': True, 'track_number': 10, 'type': 'track', 'uri': 'spotify:track:7rO7Pc5dkC2EIW1OKsCJtQ'}, 'video_thumbnail': {'url': None}}\n",
      "{'added_at': '2020-12-17T17:23:48Z', 'added_by': {'external_urls': {'spotify': 'https://open.spotify.com/user/'}, 'href': 'https://api.spotify.com/v1/users/', 'id': '', 'type': 'user', 'uri': 'spotify:user:'}, 'is_local': False, 'primary_color': None, 'track': {'album': {'album_type': 'album', 'artists': [{'external_urls': {'spotify': 'https://open.spotify.com/artist/1dfeR4HaWDbWqFHLkxsg1d'}, 'href': 'https://api.spotify.com/v1/artists/1dfeR4HaWDbWqFHLkxsg1d', 'id': '1dfeR4HaWDbWqFHLkxsg1d', 'name': 'Queen', 'type': 'artist', 'uri': 'spotify:artist:1dfeR4HaWDbWqFHLkxsg1d'}], 'available_markets': ['AD', 'AE', 'AG', 'AL', 'AM', 'AO', 'AR', 'AT', 'AU', 'AZ', 'BA', 'BB', 'BD', 'BE', 'BF', 'BG', 'BH', 'BI', 'BJ', 'BN', 'BO', 'BR', 'BS', 'BT', 'BW', 'BY', 'BZ', 'CD', 'CG', 'CH', 'CI', 'CL', 'CM', 'CO', 'CR', 'CV', 'CY', 'CZ', 'DE', 'DJ', 'DK', 'DM', 'DO', 'DZ', 'EC', 'EE', 'EG', 'ES', 'FI', 'FJ', 'FM', 'FR', 'GA', 'GB', 'GD', 'GH', 'GM', 'GN', 'GQ', 'GR', 'GT', 'GW', 'GY', 'HK', 'HN', 'HR', 'HT', 'HU', 'ID', 'IE', 'IL', 'IN', 'IQ', 'IS', 'IT', 'JM', 'JO', 'JP', 'KE', 'KG', 'KH', 'KI', 'KM', 'KN', 'KR', 'KW', 'KZ', 'LA', 'LB', 'LC', 'LI', 'LK', 'LR', 'LS', 'LT', 'LU', 'LV', 'LY', 'MA', 'MC', 'MD', 'ME', 'MG', 'MH', 'MK', 'ML', 'MN', 'MO', 'MR', 'MT', 'MU', 'MV', 'MW', 'MX', 'MY', 'MZ', 'NA', 'NE', 'NG', 'NI', 'NL', 'NO', 'NP', 'NR', 'NZ', 'OM', 'PA', 'PE', 'PG', 'PH', 'PK', 'PL', 'PS', 'PT', 'PW', 'PY', 'QA', 'RO', 'RS', 'RU', 'RW', 'SA', 'SB', 'SC', 'SE', 'SG', 'SI', 'SK', 'SL', 'SN', 'SR', 'ST', 'SV', 'SZ', 'TD', 'TG', 'TH', 'TJ', 'TL', 'TN', 'TO', 'TR', 'TT', 'TV', 'TW', 'TZ', 'UA', 'UG', 'UY', 'UZ', 'VC', 'VE', 'VN', 'WS', 'XK', 'ZA', 'ZM', 'ZW'], 'external_urls': {'spotify': 'https://open.spotify.com/album/1GbtB4zTqAsyfZEsm1RZfx'}, 'href': 'https://api.spotify.com/v1/albums/1GbtB4zTqAsyfZEsm1RZfx', 'id': '1GbtB4zTqAsyfZEsm1RZfx', 'images': [{'height': 640, 'url': 'https://i.scdn.co/image/ab67616d0000b273e319baafd16e84f0408af2a0', 'width': 640}, {'height': 300, 'url': 'https://i.scdn.co/image/ab67616d00001e02e319baafd16e84f0408af2a0', 'width': 300}, {'height': 64, 'url': 'https://i.scdn.co/image/ab67616d00004851e319baafd16e84f0408af2a0', 'width': 64}], 'name': 'A Night At The Opera (2011 Remaster)', 'release_date': '1975-11-21', 'release_date_precision': 'day', 'total_tracks': 12, 'type': 'album', 'uri': 'spotify:album:1GbtB4zTqAsyfZEsm1RZfx'}, 'artists': [{'external_urls': {'spotify': 'https://open.spotify.com/artist/1dfeR4HaWDbWqFHLkxsg1d'}, 'href': 'https://api.spotify.com/v1/artists/1dfeR4HaWDbWqFHLkxsg1d', 'id': '1dfeR4HaWDbWqFHLkxsg1d', 'name': 'Queen', 'type': 'artist', 'uri': 'spotify:artist:1dfeR4HaWDbWqFHLkxsg1d'}], 'available_markets': ['AD', 'AE', 'AG', 'AL', 'AM', 'AO', 'AR', 'AT', 'AU', 'AZ', 'BA', 'BB', 'BD', 'BE', 'BF', 'BG', 'BH', 'BI', 'BJ', 'BN', 'BO', 'BR', 'BS', 'BT', 'BW', 'BY', 'BZ', 'CD', 'CG', 'CH', 'CI', 'CL', 'CM', 'CO', 'CR', 'CV', 'CY', 'CZ', 'DE', 'DJ', 'DK', 'DM', 'DO', 'DZ', 'EC', 'EE', 'EG', 'ES', 'FI', 'FJ', 'FM', 'FR', 'GA', 'GB', 'GD', 'GH', 'GM', 'GN', 'GQ', 'GR', 'GT', 'GW', 'GY', 'HK', 'HN', 'HR', 'HT', 'HU', 'ID', 'IE', 'IL', 'IN', 'IQ', 'IS', 'IT', 'JM', 'JO', 'JP', 'KE', 'KG', 'KH', 'KI', 'KM', 'KN', 'KR', 'KW', 'KZ', 'LA', 'LB', 'LC', 'LI', 'LK', 'LR', 'LS', 'LT', 'LU', 'LV', 'LY', 'MA', 'MC', 'MD', 'ME', 'MG', 'MH', 'MK', 'ML', 'MN', 'MO', 'MR', 'MT', 'MU', 'MV', 'MW', 'MX', 'MY', 'MZ', 'NA', 'NE', 'NG', 'NI', 'NL', 'NO', 'NP', 'NR', 'NZ', 'OM', 'PA', 'PE', 'PG', 'PH', 'PK', 'PL', 'PS', 'PT', 'PW', 'PY', 'QA', 'RO', 'RS', 'RU', 'RW', 'SA', 'SB', 'SC', 'SE', 'SG', 'SI', 'SK', 'SL', 'SN', 'SR', 'ST', 'SV', 'SZ', 'TD', 'TG', 'TH', 'TJ', 'TL', 'TN', 'TO', 'TR', 'TT', 'TV', 'TW', 'TZ', 'UA', 'UG', 'UY', 'UZ', 'VC', 'VE', 'VN', 'WS', 'XK', 'ZA', 'ZM', 'ZW'], 'disc_number': 1, 'duration_ms': 354320, 'episode': False, 'explicit': False, 'external_ids': {'isrc': 'GBUM71029604'}, 'external_urls': {'spotify': 'https://open.spotify.com/track/4u7EnebtmKWzUH433cf5Qv'}, 'href': 'https://api.spotify.com/v1/tracks/4u7EnebtmKWzUH433cf5Qv', 'id': '4u7EnebtmKWzUH433cf5Qv', 'is_local': False, 'name': 'Bohemian Rhapsody - Remastered 2011', 'popularity': 82, 'preview_url': None, 'track': True, 'track_number': 11, 'type': 'track', 'uri': 'spotify:track:4u7EnebtmKWzUH433cf5Qv'}, 'video_thumbnail': {'url': None}}\n",
      "{'added_at': '2020-12-17T17:23:48Z', 'added_by': {'external_urls': {'spotify': 'https://open.spotify.com/user/'}, 'href': 'https://api.spotify.com/v1/users/', 'id': '', 'type': 'user', 'uri': 'spotify:user:'}, 'is_local': False, 'primary_color': None, 'track': {'album': {'album_type': 'album', 'artists': [{'external_urls': {'spotify': 'https://open.spotify.com/artist/0ECwFtbIWEVNwjlrfc6xoL'}, 'href': 'https://api.spotify.com/v1/artists/0ECwFtbIWEVNwjlrfc6xoL', 'id': '0ECwFtbIWEVNwjlrfc6xoL', 'name': 'Eagles', 'type': 'artist', 'uri': 'spotify:artist:0ECwFtbIWEVNwjlrfc6xoL'}], 'available_markets': ['AD', 'AE', 'AG', 'AL', 'AM', 'AO', 'AR', 'AT', 'AU', 'AZ', 'BA', 'BB', 'BE', 'BF', 'BG', 'BH', 'BI', 'BJ', 'BN', 'BO', 'BR', 'BS', 'BW', 'BY', 'BZ', 'CA', 'CD', 'CG', 'CH', 'CI', 'CL', 'CM', 'CO', 'CR', 'CV', 'CY', 'CZ', 'DE', 'DJ', 'DK', 'DM', 'DO', 'DZ', 'EC', 'EE', 'EG', 'ES', 'FI', 'FJ', 'FM', 'FR', 'GA', 'GB', 'GD', 'GH', 'GM', 'GN', 'GQ', 'GR', 'GT', 'GW', 'HK', 'HN', 'HR', 'HT', 'HU', 'ID', 'IE', 'IL', 'IN', 'IQ', 'IS', 'IT', 'JM', 'JO', 'JP', 'KE', 'KG', 'KH', 'KM', 'KN', 'KR', 'KW', 'KZ', 'LA', 'LB', 'LC', 'LI', 'LK', 'LR', 'LS', 'LT', 'LU', 'LV', 'LY', 'MA', 'MC', 'MD', 'ME', 'MG', 'MK', 'ML', 'MN', 'MO', 'MR', 'MT', 'MU', 'MV', 'MW', 'MX', 'MY', 'MZ', 'NA', 'NE', 'NG', 'NI', 'NL', 'NO', 'NP', 'NZ', 'OM', 'PA', 'PE', 'PG', 'PH', 'PL', 'PT', 'PY', 'QA', 'RO', 'RS', 'RU', 'RW', 'SA', 'SC', 'SE', 'SG', 'SI', 'SK', 'SL', 'SM', 'SN', 'ST', 'SV', 'SZ', 'TD', 'TG', 'TH', 'TJ', 'TL', 'TN', 'TR', 'TT', 'TW', 'TZ', 'UA', 'UG', 'US', 'UY', 'UZ', 'VC', 'VE', 'VN', 'XK', 'ZA', 'ZM', 'ZW'], 'external_urls': {'spotify': 'https://open.spotify.com/album/2widuo17g5CEC66IbzveRu'}, 'href': 'https://api.spotify.com/v1/albums/2widuo17g5CEC66IbzveRu', 'id': '2widuo17g5CEC66IbzveRu', 'images': [{'height': 640, 'url': 'https://i.scdn.co/image/ab67616d0000b2734637341b9f507521afa9a778', 'width': 640}, {'height': 300, 'url': 'https://i.scdn.co/image/ab67616d00001e024637341b9f507521afa9a778', 'width': 300}, {'height': 64, 'url': 'https://i.scdn.co/image/ab67616d000048514637341b9f507521afa9a778', 'width': 64}], 'name': 'Hotel California (2013 Remaster)', 'release_date': '1976-12-08', 'release_date_precision': 'day', 'total_tracks': 9, 'type': 'album', 'uri': 'spotify:album:2widuo17g5CEC66IbzveRu'}, 'artists': [{'external_urls': {'spotify': 'https://open.spotify.com/artist/0ECwFtbIWEVNwjlrfc6xoL'}, 'href': 'https://api.spotify.com/v1/artists/0ECwFtbIWEVNwjlrfc6xoL', 'id': '0ECwFtbIWEVNwjlrfc6xoL', 'name': 'Eagles', 'type': 'artist', 'uri': 'spotify:artist:0ECwFtbIWEVNwjlrfc6xoL'}], 'available_markets': ['AD', 'AE', 'AG', 'AL', 'AM', 'AO', 'AR', 'AT', 'AU', 'AZ', 'BA', 'BB', 'BE', 'BF', 'BG', 'BH', 'BI', 'BJ', 'BN', 'BO', 'BR', 'BS', 'BW', 'BY', 'BZ', 'CA', 'CD', 'CG', 'CH', 'CI', 'CL', 'CM', 'CO', 'CR', 'CV', 'CY', 'CZ', 'DE', 'DJ', 'DK', 'DM', 'DO', 'DZ', 'EC', 'EE', 'EG', 'ES', 'FI', 'FJ', 'FM', 'FR', 'GA', 'GB', 'GD', 'GH', 'GM', 'GN', 'GQ', 'GR', 'GT', 'GW', 'HK', 'HN', 'HR', 'HT', 'HU', 'ID', 'IE', 'IL', 'IN', 'IQ', 'IS', 'IT', 'JM', 'JO', 'JP', 'KE', 'KG', 'KH', 'KM', 'KN', 'KR', 'KW', 'KZ', 'LA', 'LB', 'LC', 'LI', 'LK', 'LR', 'LS', 'LT', 'LU', 'LV', 'LY', 'MA', 'MC', 'MD', 'ME', 'MG', 'MK', 'ML', 'MN', 'MO', 'MR', 'MT', 'MU', 'MV', 'MW', 'MX', 'MY', 'MZ', 'NA', 'NE', 'NG', 'NI', 'NL', 'NO', 'NP', 'NZ', 'OM', 'PA', 'PE', 'PG', 'PH', 'PL', 'PT', 'PY', 'QA', 'RO', 'RS', 'RU', 'RW', 'SA', 'SC', 'SE', 'SG', 'SI', 'SK', 'SL', 'SM', 'SN', 'ST', 'SV', 'SZ', 'TD', 'TG', 'TH', 'TJ', 'TL', 'TN', 'TR', 'TT', 'TW', 'TZ', 'UA', 'UG', 'US', 'UY', 'UZ', 'VC', 'VE', 'VN', 'XK', 'ZA', 'ZM', 'ZW'], 'disc_number': 1, 'duration_ms': 391376, 'episode': False, 'explicit': False, 'external_ids': {'isrc': 'USEE11300353'}, 'external_urls': {'spotify': 'https://open.spotify.com/track/40riOy7x9W7GXjyGp4pjAv'}, 'href': 'https://api.spotify.com/v1/tracks/40riOy7x9W7GXjyGp4pjAv', 'id': '40riOy7x9W7GXjyGp4pjAv', 'is_local': False, 'name': 'Hotel California - 2013 Remaster', 'popularity': 83, 'preview_url': 'https://p.scdn.co/mp3-preview/50e82c99c20ffa4223e82250605bbd8500cb3928?cid=07f6ced08f1944d49d4357a8e338da91', 'track': True, 'track_number': 1, 'type': 'track', 'uri': 'spotify:track:40riOy7x9W7GXjyGp4pjAv'}, 'video_thumbnail': {'url': None}}\n",
      "{'added_at': '2020-12-17T17:23:48Z', 'added_by': {'external_urls': {'spotify': 'https://open.spotify.com/user/'}, 'href': 'https://api.spotify.com/v1/users/', 'id': '', 'type': 'user', 'uri': 'spotify:user:'}, 'is_local': False, 'primary_color': None, 'track': {'album': {'album_type': 'compilation', 'artists': [{'external_urls': {'spotify': 'https://open.spotify.com/artist/6zFYqv1mOsgBRQbae3JJ9e'}, 'href': 'https://api.spotify.com/v1/artists/6zFYqv1mOsgBRQbae3JJ9e', 'id': '6zFYqv1mOsgBRQbae3JJ9e', 'name': 'Billy Joel', 'type': 'artist', 'uri': 'spotify:artist:6zFYqv1mOsgBRQbae3JJ9e'}], 'available_markets': ['AD', 'AE', 'AG', 'AL', 'AM', 'AO', 'AR', 'AT', 'AU', 'AZ', 'BA', 'BB', 'BD', 'BE', 'BF', 'BG', 'BH', 'BI', 'BJ', 'BN', 'BO', 'BR', 'BS', 'BT', 'BW', 'BY', 'BZ', 'CA', 'CD', 'CG', 'CH', 'CI', 'CL', 'CM', 'CO', 'CR', 'CV', 'CW', 'CY', 'CZ', 'DE', 'DJ', 'DK', 'DM', 'DO', 'DZ', 'EC', 'EE', 'EG', 'ES', 'FI', 'FJ', 'FM', 'FR', 'GA', 'GB', 'GD', 'GE', 'GH', 'GM', 'GN', 'GQ', 'GR', 'GT', 'GW', 'GY', 'HK', 'HN', 'HR', 'HT', 'HU', 'ID', 'IE', 'IL', 'IN', 'IQ', 'IS', 'IT', 'JM', 'JO', 'JP', 'KE', 'KG', 'KH', 'KI', 'KM', 'KN', 'KR', 'KW', 'KZ', 'LA', 'LB', 'LC', 'LI', 'LK', 'LR', 'LS', 'LT', 'LU', 'LV', 'LY', 'MA', 'MC', 'MD', 'ME', 'MG', 'MH', 'MK', 'ML', 'MN', 'MO', 'MR', 'MT', 'MU', 'MV', 'MW', 'MX', 'MY', 'MZ', 'NA', 'NE', 'NG', 'NI', 'NL', 'NO', 'NP', 'NR', 'NZ', 'OM', 'PA', 'PE', 'PG', 'PH', 'PK', 'PL', 'PS', 'PT', 'PW', 'PY', 'QA', 'RO', 'RS', 'RU', 'RW', 'SA', 'SB', 'SC', 'SE', 'SG', 'SI', 'SK', 'SL', 'SM', 'SN', 'SR', 'ST', 'SV', 'SZ', 'TD', 'TG', 'TH', 'TJ', 'TL', 'TN', 'TO', 'TR', 'TT', 'TV', 'TW', 'TZ', 'UA', 'UG', 'US', 'UY', 'UZ', 'VC', 'VE', 'VN', 'VU', 'WS', 'XK', 'ZA', 'ZM', 'ZW'], 'external_urls': {'spotify': 'https://open.spotify.com/album/7r36rel1M4gyBavfcJP6Yz'}, 'href': 'https://api.spotify.com/v1/albums/7r36rel1M4gyBavfcJP6Yz', 'id': '7r36rel1M4gyBavfcJP6Yz', 'images': [{'height': 640, 'url': 'https://i.scdn.co/image/ab67616d0000b273649d4f282653ab8be56f447e', 'width': 640}, {'height': 300, 'url': 'https://i.scdn.co/image/ab67616d00001e02649d4f282653ab8be56f447e', 'width': 300}, {'height': 64, 'url': 'https://i.scdn.co/image/ab67616d00004851649d4f282653ab8be56f447e', 'width': 64}], 'name': 'The Essential Billy Joel', 'release_date': '2001-10-02', 'release_date_precision': 'day', 'total_tracks': 36, 'type': 'album', 'uri': 'spotify:album:7r36rel1M4gyBavfcJP6Yz'}, 'artists': [{'external_urls': {'spotify': 'https://open.spotify.com/artist/6zFYqv1mOsgBRQbae3JJ9e'}, 'href': 'https://api.spotify.com/v1/artists/6zFYqv1mOsgBRQbae3JJ9e', 'id': '6zFYqv1mOsgBRQbae3JJ9e', 'name': 'Billy Joel', 'type': 'artist', 'uri': 'spotify:artist:6zFYqv1mOsgBRQbae3JJ9e'}], 'available_markets': ['AD', 'AE', 'AG', 'AL', 'AM', 'AO', 'AR', 'AT', 'AU', 'AZ', 'BA', 'BB', 'BD', 'BE', 'BF', 'BG', 'BH', 'BI', 'BJ', 'BN', 'BO', 'BR', 'BS', 'BT', 'BW', 'BY', 'BZ', 'CA', 'CD', 'CG', 'CH', 'CI', 'CL', 'CM', 'CO', 'CR', 'CV', 'CW', 'CY', 'CZ', 'DE', 'DJ', 'DK', 'DM', 'DO', 'DZ', 'EC', 'EE', 'EG', 'ES', 'FI', 'FJ', 'FM', 'FR', 'GA', 'GB', 'GD', 'GE', 'GH', 'GM', 'GN', 'GQ', 'GR', 'GT', 'GW', 'GY', 'HK', 'HN', 'HR', 'HT', 'HU', 'ID', 'IE', 'IL', 'IN', 'IQ', 'IS', 'IT', 'JM', 'JO', 'JP', 'KE', 'KG', 'KH', 'KI', 'KM', 'KN', 'KR', 'KW', 'KZ', 'LA', 'LB', 'LC', 'LI', 'LK', 'LR', 'LS', 'LT', 'LU', 'LV', 'LY', 'MA', 'MC', 'MD', 'ME', 'MG', 'MH', 'MK', 'ML', 'MN', 'MO', 'MR', 'MT', 'MU', 'MV', 'MW', 'MX', 'MY', 'MZ', 'NA', 'NE', 'NG', 'NI', 'NL', 'NO', 'NP', 'NR', 'NZ', 'OM', 'PA', 'PE', 'PG', 'PH', 'PK', 'PL', 'PS', 'PT', 'PW', 'PY', 'QA', 'RO', 'RS', 'RU', 'RW', 'SA', 'SB', 'SC', 'SE', 'SG', 'SI', 'SK', 'SL', 'SM', 'SN', 'SR', 'ST', 'SV', 'SZ', 'TD', 'TG', 'TH', 'TJ', 'TL', 'TN', 'TO', 'TR', 'TT', 'TV', 'TW', 'TZ', 'UA', 'UG', 'US', 'UY', 'UZ', 'VC', 'VE', 'VN', 'VU', 'WS', 'XK', 'ZA', 'ZM', 'ZW'], 'disc_number': 1, 'duration_ms': 336093, 'episode': False, 'explicit': False, 'external_ids': {'isrc': 'USSM17300504'}, 'external_urls': {'spotify': 'https://open.spotify.com/track/3FCto7hnn1shUyZL42YgfO'}, 'href': 'https://api.spotify.com/v1/tracks/3FCto7hnn1shUyZL42YgfO', 'id': '3FCto7hnn1shUyZL42YgfO', 'is_local': False, 'name': 'Piano Man', 'popularity': 66, 'preview_url': 'https://p.scdn.co/mp3-preview/54682172a43fb85c11b29f807f9ced0dcd3b9dc0?cid=07f6ced08f1944d49d4357a8e338da91', 'track': True, 'track_number': 1, 'type': 'track', 'uri': 'spotify:track:3FCto7hnn1shUyZL42YgfO'}, 'video_thumbnail': {'url': None}}\n",
      "{'added_at': '2020-12-17T17:23:48Z', 'added_by': {'external_urls': {'spotify': 'https://open.spotify.com/user/'}, 'href': 'https://api.spotify.com/v1/users/', 'id': '', 'type': 'user', 'uri': 'spotify:user:'}, 'is_local': False, 'primary_color': None, 'track': {'album': {'album_type': 'album', 'artists': [{'external_urls': {'spotify': 'https://open.spotify.com/artist/36QJpDe2go2KgaRleHCDTp'}, 'href': 'https://api.spotify.com/v1/artists/36QJpDe2go2KgaRleHCDTp', 'id': '36QJpDe2go2KgaRleHCDTp', 'name': 'Led Zeppelin', 'type': 'artist', 'uri': 'spotify:artist:36QJpDe2go2KgaRleHCDTp'}], 'available_markets': ['AD', 'AE', 'AG', 'AL', 'AM', 'AO', 'AR', 'AT', 'AU', 'AZ', 'BA', 'BB', 'BD', 'BE', 'BF', 'BG', 'BH', 'BI', 'BJ', 'BN', 'BO', 'BR', 'BS', 'BT', 'BW', 'BY', 'BZ', 'CA', 'CD', 'CG', 'CH', 'CI', 'CL', 'CM', 'CO', 'CR', 'CV', 'CW', 'CY', 'CZ', 'DE', 'DJ', 'DK', 'DM', 'DO', 'DZ', 'EC', 'EE', 'EG', 'ES', 'FI', 'FJ', 'FM', 'FR', 'GA', 'GB', 'GD', 'GE', 'GH', 'GM', 'GN', 'GQ', 'GR', 'GT', 'GW', 'GY', 'HK', 'HN', 'HR', 'HT', 'HU', 'ID', 'IE', 'IL', 'IN', 'IQ', 'IS', 'IT', 'JM', 'JO', 'JP', 'KE', 'KG', 'KH', 'KI', 'KM', 'KN', 'KR', 'KW', 'KZ', 'LA', 'LB', 'LC', 'LI', 'LK', 'LR', 'LS', 'LT', 'LU', 'LV', 'LY', 'MA', 'MC', 'MD', 'ME', 'MG', 'MH', 'MK', 'ML', 'MN', 'MO', 'MR', 'MT', 'MU', 'MV', 'MW', 'MX', 'MY', 'MZ', 'NA', 'NE', 'NG', 'NI', 'NL', 'NO', 'NP', 'NR', 'NZ', 'OM', 'PA', 'PE', 'PG', 'PH', 'PK', 'PL', 'PS', 'PT', 'PW', 'PY', 'QA', 'RO', 'RS', 'RU', 'RW', 'SA', 'SB', 'SC', 'SE', 'SG', 'SI', 'SK', 'SL', 'SM', 'SN', 'SR', 'ST', 'SV', 'SZ', 'TD', 'TG', 'TH', 'TJ', 'TL', 'TN', 'TO', 'TR', 'TT', 'TV', 'TW', 'TZ', 'UA', 'UG', 'US', 'UY', 'UZ', 'VC', 'VE', 'VN', 'VU', 'WS', 'XK', 'ZA', 'ZM', 'ZW'], 'external_urls': {'spotify': 'https://open.spotify.com/album/44Ig8dzqOkvkGDzaUof9lK'}, 'href': 'https://api.spotify.com/v1/albums/44Ig8dzqOkvkGDzaUof9lK', 'id': '44Ig8dzqOkvkGDzaUof9lK', 'images': [{'height': 640, 'url': 'https://i.scdn.co/image/ab67616d0000b273c8a11e48c91a982d086afc69', 'width': 640}, {'height': 300, 'url': 'https://i.scdn.co/image/ab67616d00001e02c8a11e48c91a982d086afc69', 'width': 300}, {'height': 64, 'url': 'https://i.scdn.co/image/ab67616d00004851c8a11e48c91a982d086afc69', 'width': 64}], 'name': 'Led Zeppelin IV (Deluxe Edition)', 'release_date': '1971-11-08', 'release_date_precision': 'day', 'total_tracks': 16, 'type': 'album', 'uri': 'spotify:album:44Ig8dzqOkvkGDzaUof9lK'}, 'artists': [{'external_urls': {'spotify': 'https://open.spotify.com/artist/36QJpDe2go2KgaRleHCDTp'}, 'href': 'https://api.spotify.com/v1/artists/36QJpDe2go2KgaRleHCDTp', 'id': '36QJpDe2go2KgaRleHCDTp', 'name': 'Led Zeppelin', 'type': 'artist', 'uri': 'spotify:artist:36QJpDe2go2KgaRleHCDTp'}], 'available_markets': ['AD', 'AE', 'AG', 'AL', 'AM', 'AO', 'AR', 'AT', 'AU', 'AZ', 'BA', 'BB', 'BD', 'BE', 'BF', 'BG', 'BH', 'BI', 'BJ', 'BN', 'BO', 'BR', 'BS', 'BT', 'BW', 'BY', 'BZ', 'CA', 'CD', 'CG', 'CH', 'CI', 'CL', 'CM', 'CO', 'CR', 'CV', 'CW', 'CY', 'CZ', 'DE', 'DJ', 'DK', 'DM', 'DO', 'DZ', 'EC', 'EE', 'EG', 'ES', 'FI', 'FJ', 'FM', 'FR', 'GA', 'GB', 'GD', 'GE', 'GH', 'GM', 'GN', 'GQ', 'GR', 'GT', 'GW', 'GY', 'HK', 'HN', 'HR', 'HT', 'HU', 'ID', 'IE', 'IL', 'IN', 'IQ', 'IS', 'IT', 'JM', 'JO', 'JP', 'KE', 'KG', 'KH', 'KI', 'KM', 'KN', 'KR', 'KW', 'KZ', 'LA', 'LB', 'LC', 'LI', 'LK', 'LR', 'LS', 'LT', 'LU', 'LV', 'LY', 'MA', 'MC', 'MD', 'ME', 'MG', 'MH', 'MK', 'ML', 'MN', 'MO', 'MR', 'MT', 'MU', 'MV', 'MW', 'MX', 'MY', 'MZ', 'NA', 'NE', 'NG', 'NI', 'NL', 'NO', 'NP', 'NR', 'NZ', 'OM', 'PA', 'PE', 'PG', 'PH', 'PK', 'PL', 'PS', 'PT', 'PW', 'PY', 'QA', 'RO', 'RS', 'RU', 'RW', 'SA', 'SB', 'SC', 'SE', 'SG', 'SI', 'SK', 'SL', 'SM', 'SN', 'SR', 'ST', 'SV', 'SZ', 'TD', 'TG', 'TH', 'TJ', 'TL', 'TN', 'TO', 'TR', 'TT', 'TV', 'TW', 'TZ', 'UA', 'UG', 'US', 'UY', 'UZ', 'VC', 'VE', 'VN', 'VU', 'WS', 'XK', 'ZA', 'ZM', 'ZW'], 'disc_number': 1, 'duration_ms': 482830, 'episode': False, 'explicit': False, 'external_ids': {'isrc': 'USAT21300959'}, 'external_urls': {'spotify': 'https://open.spotify.com/track/5CQ30WqJwcep0pYcV4AMNc'}, 'href': 'https://api.spotify.com/v1/tracks/5CQ30WqJwcep0pYcV4AMNc', 'id': '5CQ30WqJwcep0pYcV4AMNc', 'is_local': False, 'name': 'Stairway to Heaven - Remaster', 'popularity': 79, 'preview_url': 'https://p.scdn.co/mp3-preview/8226164717312bc411f8635580562d67e191a754?cid=07f6ced08f1944d49d4357a8e338da91', 'track': True, 'track_number': 4, 'type': 'track', 'uri': 'spotify:track:5CQ30WqJwcep0pYcV4AMNc'}, 'video_thumbnail': {'url': None}}\n",
      "{'added_at': '2020-12-17T17:23:48Z', 'added_by': {'external_urls': {'spotify': 'https://open.spotify.com/user/'}, 'href': 'https://api.spotify.com/v1/users/', 'id': '', 'type': 'user', 'uri': 'spotify:user:'}, 'is_local': False, 'primary_color': None, 'track': {'album': {'album_type': 'album', 'artists': [{'external_urls': {'spotify': 'https://open.spotify.com/artist/1w5Kfo2jwwIPruYS2UWh56'}, 'href': 'https://api.spotify.com/v1/artists/1w5Kfo2jwwIPruYS2UWh56', 'id': '1w5Kfo2jwwIPruYS2UWh56', 'name': 'Pearl Jam', 'type': 'artist', 'uri': 'spotify:artist:1w5Kfo2jwwIPruYS2UWh56'}], 'available_markets': ['AD', 'AE', 'AG', 'AL', 'AM', 'AO', 'AR', 'AT', 'AU', 'AZ', 'BA', 'BB', 'BD', 'BE', 'BF', 'BG', 'BH', 'BI', 'BJ', 'BN', 'BO', 'BR', 'BS', 'BT', 'BW', 'BY', 'BZ', 'CA', 'CD', 'CG', 'CH', 'CI', 'CL', 'CM', 'CO', 'CR', 'CV', 'CW', 'CY', 'CZ', 'DE', 'DJ', 'DK', 'DM', 'DO', 'DZ', 'EC', 'EE', 'EG', 'ES', 'FI', 'FJ', 'FM', 'FR', 'GA', 'GB', 'GD', 'GE', 'GH', 'GM', 'GN', 'GQ', 'GR', 'GT', 'GW', 'GY', 'HK', 'HN', 'HR', 'HT', 'HU', 'ID', 'IE', 'IL', 'IN', 'IQ', 'IS', 'IT', 'JM', 'JO', 'JP', 'KE', 'KG', 'KH', 'KI', 'KM', 'KN', 'KR', 'KW', 'KZ', 'LA', 'LB', 'LC', 'LI', 'LK', 'LR', 'LS', 'LT', 'LU', 'LV', 'LY', 'MA', 'MC', 'MD', 'ME', 'MG', 'MH', 'MK', 'ML', 'MN', 'MO', 'MR', 'MT', 'MU', 'MV', 'MW', 'MX', 'MY', 'MZ', 'NA', 'NE', 'NG', 'NI', 'NL', 'NO', 'NP', 'NR', 'NZ', 'OM', 'PA', 'PE', 'PG', 'PH', 'PK', 'PL', 'PS', 'PT', 'PW', 'PY', 'QA', 'RO', 'RS', 'RU', 'RW', 'SA', 'SB', 'SC', 'SE', 'SG', 'SI', 'SK', 'SL', 'SM', 'SN', 'SR', 'ST', 'SV', 'SZ', 'TD', 'TG', 'TH', 'TJ', 'TL', 'TN', 'TO', 'TR', 'TT', 'TV', 'TW', 'TZ', 'UA', 'UG', 'US', 'UY', 'UZ', 'VC', 'VE', 'VN', 'VU', 'WS', 'XK', 'ZA', 'ZM', 'ZW'], 'external_urls': {'spotify': 'https://open.spotify.com/album/5B4PYA7wNN4WdEXdIJu58a'}, 'href': 'https://api.spotify.com/v1/albums/5B4PYA7wNN4WdEXdIJu58a', 'id': '5B4PYA7wNN4WdEXdIJu58a', 'images': [{'height': 640, 'url': 'https://i.scdn.co/image/ab67616d0000b273d400d27cba05bb0545533864', 'width': 640}, {'height': 300, 'url': 'https://i.scdn.co/image/ab67616d00001e02d400d27cba05bb0545533864', 'width': 300}, {'height': 64, 'url': 'https://i.scdn.co/image/ab67616d00004851d400d27cba05bb0545533864', 'width': 64}], 'name': 'Ten', 'release_date': '1991-08-27', 'release_date_precision': 'day', 'total_tracks': 11, 'type': 'album', 'uri': 'spotify:album:5B4PYA7wNN4WdEXdIJu58a'}, 'artists': [{'external_urls': {'spotify': 'https://open.spotify.com/artist/1w5Kfo2jwwIPruYS2UWh56'}, 'href': 'https://api.spotify.com/v1/artists/1w5Kfo2jwwIPruYS2UWh56', 'id': '1w5Kfo2jwwIPruYS2UWh56', 'name': 'Pearl Jam', 'type': 'artist', 'uri': 'spotify:artist:1w5Kfo2jwwIPruYS2UWh56'}], 'available_markets': ['AD', 'AE', 'AG', 'AL', 'AM', 'AO', 'AR', 'AT', 'AU', 'AZ', 'BA', 'BB', 'BD', 'BE', 'BF', 'BG', 'BH', 'BI', 'BJ', 'BN', 'BO', 'BR', 'BS', 'BT', 'BW', 'BY', 'BZ', 'CA', 'CD', 'CG', 'CH', 'CI', 'CL', 'CM', 'CO', 'CR', 'CV', 'CW', 'CY', 'CZ', 'DE', 'DJ', 'DK', 'DM', 'DO', 'DZ', 'EC', 'EE', 'EG', 'ES', 'FI', 'FJ', 'FM', 'FR', 'GA', 'GB', 'GD', 'GE', 'GH', 'GM', 'GN', 'GQ', 'GR', 'GT', 'GW', 'GY', 'HK', 'HN', 'HR', 'HT', 'HU', 'ID', 'IE', 'IL', 'IN', 'IQ', 'IS', 'IT', 'JM', 'JO', 'JP', 'KE', 'KG', 'KH', 'KI', 'KM', 'KN', 'KR', 'KW', 'KZ', 'LA', 'LB', 'LC', 'LI', 'LK', 'LR', 'LS', 'LT', 'LU', 'LV', 'LY', 'MA', 'MC', 'MD', 'ME', 'MG', 'MH', 'MK', 'ML', 'MN', 'MO', 'MR', 'MT', 'MU', 'MV', 'MW', 'MX', 'MY', 'MZ', 'NA', 'NE', 'NG', 'NI', 'NL', 'NO', 'NP', 'NR', 'NZ', 'OM', 'PA', 'PE', 'PG', 'PH', 'PK', 'PL', 'PS', 'PT', 'PW', 'PY', 'QA', 'RO', 'RS', 'RU', 'RW', 'SA', 'SB', 'SC', 'SE', 'SG', 'SI', 'SK', 'SL', 'SM', 'SN', 'SR', 'ST', 'SV', 'SZ', 'TD', 'TG', 'TH', 'TJ', 'TL', 'TN', 'TO', 'TR', 'TT', 'TV', 'TW', 'TZ', 'UA', 'UG', 'US', 'UY', 'UZ', 'VC', 'VE', 'VN', 'VU', 'WS', 'XK', 'ZA', 'ZM', 'ZW'], 'disc_number': 1, 'duration_ms': 342653, 'episode': False, 'explicit': False, 'external_ids': {'isrc': 'USSM19100412'}, 'external_urls': {'spotify': 'https://open.spotify.com/track/5Xak5fmy089t0FYmh3VJiY'}, 'href': 'https://api.spotify.com/v1/tracks/5Xak5fmy089t0FYmh3VJiY', 'id': '5Xak5fmy089t0FYmh3VJiY', 'is_local': False, 'name': 'Black', 'popularity': 74, 'preview_url': 'https://p.scdn.co/mp3-preview/c6773a34d5fae11fb1c2b85b9c5efdac2aa693ec?cid=07f6ced08f1944d49d4357a8e338da91', 'track': True, 'track_number': 5, 'type': 'track', 'uri': 'spotify:track:5Xak5fmy089t0FYmh3VJiY'}, 'video_thumbnail': {'url': None}}\n",
      "{'added_at': '2020-12-17T17:23:48Z', 'added_by': {'external_urls': {'spotify': 'https://open.spotify.com/user/'}, 'href': 'https://api.spotify.com/v1/users/', 'id': '', 'type': 'user', 'uri': 'spotify:user:'}, 'is_local': False, 'primary_color': None, 'track': {'album': {'album_type': 'album', 'artists': [{'external_urls': {'spotify': 'https://open.spotify.com/artist/3h6rezLYXc5QU08SCKZtyO'}, 'href': 'https://api.spotify.com/v1/artists/3h6rezLYXc5QU08SCKZtyO', 'id': '3h6rezLYXc5QU08SCKZtyO', 'name': 'Boudewijn de Groot', 'type': 'artist', 'uri': 'spotify:artist:3h6rezLYXc5QU08SCKZtyO'}], 'available_markets': ['NL'], 'external_urls': {'spotify': 'https://open.spotify.com/album/7mNHpXdX6h4MegWwcejYbg'}, 'href': 'https://api.spotify.com/v1/albums/7mNHpXdX6h4MegWwcejYbg', 'id': '7mNHpXdX6h4MegWwcejYbg', 'images': [{'height': 640, 'url': 'https://i.scdn.co/image/ab67616d0000b273e7ac20aeeb7f43d251c914c7', 'width': 640}, {'height': 300, 'url': 'https://i.scdn.co/image/ab67616d00001e02e7ac20aeeb7f43d251c914c7', 'width': 300}, {'height': 64, 'url': 'https://i.scdn.co/image/ab67616d00004851e7ac20aeeb7f43d251c914c7', 'width': 64}], 'name': 'Een Nieuwe Herfst', 'release_date': '1996-01-01', 'release_date_precision': 'day', 'total_tracks': 14, 'type': 'album', 'uri': 'spotify:album:7mNHpXdX6h4MegWwcejYbg'}, 'artists': [{'external_urls': {'spotify': 'https://open.spotify.com/artist/3h6rezLYXc5QU08SCKZtyO'}, 'href': 'https://api.spotify.com/v1/artists/3h6rezLYXc5QU08SCKZtyO', 'id': '3h6rezLYXc5QU08SCKZtyO', 'name': 'Boudewijn de Groot', 'type': 'artist', 'uri': 'spotify:artist:3h6rezLYXc5QU08SCKZtyO'}], 'available_markets': ['NL'], 'disc_number': 1, 'duration_ms': 274293, 'episode': False, 'explicit': False, 'external_ids': {'isrc': 'BEJ039600468'}, 'external_urls': {'spotify': 'https://open.spotify.com/track/3n3F07lHLyRKwqg4q64eYA'}, 'href': 'https://api.spotify.com/v1/tracks/3n3F07lHLyRKwqg4q64eYA', 'id': '3n3F07lHLyRKwqg4q64eYA', 'is_local': False, 'name': 'Avond', 'popularity': 56, 'preview_url': None, 'track': True, 'track_number': 11, 'type': 'track', 'uri': 'spotify:track:3n3F07lHLyRKwqg4q64eYA'}, 'video_thumbnail': {'url': None}}\n",
      "{'added_at': '2020-12-17T17:23:48Z', 'added_by': {'external_urls': {'spotify': 'https://open.spotify.com/user/'}, 'href': 'https://api.spotify.com/v1/users/', 'id': '', 'type': 'user', 'uri': 'spotify:user:'}, 'is_local': False, 'primary_color': None, 'track': {'album': {'album_type': 'album', 'artists': [{'external_urls': {'spotify': 'https://open.spotify.com/artist/4gzpq5DPGxSnKTe4SA8HAU'}, 'href': 'https://api.spotify.com/v1/artists/4gzpq5DPGxSnKTe4SA8HAU', 'id': '4gzpq5DPGxSnKTe4SA8HAU', 'name': 'Coldplay', 'type': 'artist', 'uri': 'spotify:artist:4gzpq5DPGxSnKTe4SA8HAU'}], 'available_markets': ['AD', 'AE', 'AG', 'AL', 'AM', 'AO', 'AR', 'AT', 'AU', 'AZ', 'BA', 'BB', 'BD', 'BE', 'BF', 'BG', 'BH', 'BI', 'BJ', 'BN', 'BO', 'BR', 'BS', 'BT', 'BW', 'BY', 'BZ', 'CA', 'CD', 'CG', 'CH', 'CI', 'CL', 'CM', 'CO', 'CR', 'CV', 'CW', 'CY', 'CZ', 'DE', 'DJ', 'DK', 'DM', 'DO', 'DZ', 'EC', 'EE', 'EG', 'ES', 'FI', 'FJ', 'FM', 'FR', 'GA', 'GB', 'GD', 'GE', 'GH', 'GM', 'GN', 'GQ', 'GR', 'GT', 'GW', 'GY', 'HK', 'HN', 'HR', 'HT', 'HU', 'ID', 'IE', 'IL', 'IN', 'IQ', 'IS', 'IT', 'JM', 'JO', 'JP', 'KE', 'KG', 'KH', 'KI', 'KM', 'KN', 'KR', 'KW', 'KZ', 'LA', 'LB', 'LC', 'LI', 'LK', 'LR', 'LS', 'LT', 'LU', 'LV', 'LY', 'MA', 'MC', 'MD', 'ME', 'MG', 'MH', 'MK', 'ML', 'MN', 'MO', 'MR', 'MT', 'MU', 'MV', 'MW', 'MX', 'MY', 'MZ', 'NA', 'NE', 'NG', 'NI', 'NL', 'NO', 'NP', 'NR', 'NZ', 'OM', 'PA', 'PE', 'PG', 'PH', 'PK', 'PL', 'PS', 'PT', 'PW', 'PY', 'QA', 'RO', 'RS', 'RU', 'RW', 'SA', 'SB', 'SC', 'SE', 'SG', 'SI', 'SK', 'SL', 'SM', 'SN', 'SR', 'ST', 'SV', 'SZ', 'TD', 'TG', 'TH', 'TJ', 'TL', 'TN', 'TO', 'TR', 'TT', 'TV', 'TW', 'TZ', 'UA', 'UG', 'US', 'UY', 'UZ', 'VC', 'VE', 'VN', 'VU', 'WS', 'XK', 'ZA', 'ZM', 'ZW'], 'external_urls': {'spotify': 'https://open.spotify.com/album/4E7bV0pzG0LciBSWTszra6'}, 'href': 'https://api.spotify.com/v1/albums/4E7bV0pzG0LciBSWTszra6', 'id': '4E7bV0pzG0LciBSWTszra6', 'images': [{'height': 640, 'url': 'https://i.scdn.co/image/ab67616d0000b2734e0362c225863f6ae2432651', 'width': 640}, {'height': 300, 'url': 'https://i.scdn.co/image/ab67616d00001e024e0362c225863f6ae2432651', 'width': 300}, {'height': 64, 'url': 'https://i.scdn.co/image/ab67616d000048514e0362c225863f6ae2432651', 'width': 64}], 'name': 'X&Y', 'release_date': '2005-06-07', 'release_date_precision': 'day', 'total_tracks': 13, 'type': 'album', 'uri': 'spotify:album:4E7bV0pzG0LciBSWTszra6'}, 'artists': [{'external_urls': {'spotify': 'https://open.spotify.com/artist/4gzpq5DPGxSnKTe4SA8HAU'}, 'href': 'https://api.spotify.com/v1/artists/4gzpq5DPGxSnKTe4SA8HAU', 'id': '4gzpq5DPGxSnKTe4SA8HAU', 'name': 'Coldplay', 'type': 'artist', 'uri': 'spotify:artist:4gzpq5DPGxSnKTe4SA8HAU'}], 'available_markets': ['AD', 'AE', 'AG', 'AL', 'AM', 'AO', 'AR', 'AT', 'AU', 'AZ', 'BA', 'BB', 'BD', 'BE', 'BF', 'BG', 'BH', 'BI', 'BJ', 'BN', 'BO', 'BR', 'BS', 'BT', 'BW', 'BY', 'BZ', 'CA', 'CD', 'CG', 'CH', 'CI', 'CL', 'CM', 'CO', 'CR', 'CV', 'CW', 'CY', 'CZ', 'DE', 'DJ', 'DK', 'DM', 'DO', 'DZ', 'EC', 'EE', 'EG', 'ES', 'FI', 'FJ', 'FM', 'FR', 'GA', 'GB', 'GD', 'GE', 'GH', 'GM', 'GN', 'GQ', 'GR', 'GT', 'GW', 'GY', 'HK', 'HN', 'HR', 'HT', 'HU', 'ID', 'IE', 'IL', 'IN', 'IQ', 'IS', 'IT', 'JM', 'JO', 'JP', 'KE', 'KG', 'KH', 'KI', 'KM', 'KN', 'KR', 'KW', 'KZ', 'LA', 'LB', 'LC', 'LI', 'LK', 'LR', 'LS', 'LT', 'LU', 'LV', 'LY', 'MA', 'MC', 'MD', 'ME', 'MG', 'MH', 'MK', 'ML', 'MN', 'MO', 'MR', 'MT', 'MU', 'MV', 'MW', 'MX', 'MY', 'MZ', 'NA', 'NE', 'NG', 'NI', 'NL', 'NO', 'NP', 'NR', 'NZ', 'OM', 'PA', 'PE', 'PG', 'PH', 'PK', 'PL', 'PS', 'PT', 'PW', 'PY', 'QA', 'RO', 'RS', 'RU', 'RW', 'SA', 'SB', 'SC', 'SE', 'SG', 'SI', 'SK', 'SL', 'SM', 'SN', 'SR', 'ST', 'SV', 'SZ', 'TD', 'TG', 'TH', 'TJ', 'TL', 'TN', 'TO', 'TR', 'TT', 'TV', 'TW', 'TZ', 'UA', 'UG', 'US', 'UY', 'UZ', 'VC', 'VE', 'VN', 'VU', 'WS', 'XK', 'ZA', 'ZM', 'ZW'], 'disc_number': 1, 'duration_ms': 295533, 'episode': False, 'explicit': False, 'external_ids': {'isrc': 'GBAYE0500605'}, 'external_urls': {'spotify': 'https://open.spotify.com/track/7LVHVU3tWfcxj5aiPFEW4Q'}, 'href': 'https://api.spotify.com/v1/tracks/7LVHVU3tWfcxj5aiPFEW4Q', 'id': '7LVHVU3tWfcxj5aiPFEW4Q', 'is_local': False, 'name': 'Fix You', 'popularity': 82, 'preview_url': 'https://p.scdn.co/mp3-preview/46470abd1664c6f34efc0f07e0c2f1129616f28f?cid=07f6ced08f1944d49d4357a8e338da91', 'track': True, 'track_number': 4, 'type': 'track', 'uri': 'spotify:track:7LVHVU3tWfcxj5aiPFEW4Q'}, 'video_thumbnail': {'url': None}}\n",
      "{'added_at': '2020-12-17T17:23:48Z', 'added_by': {'external_urls': {'spotify': 'https://open.spotify.com/user/'}, 'href': 'https://api.spotify.com/v1/users/', 'id': '', 'type': 'user', 'uri': 'spotify:user:'}, 'is_local': False, 'primary_color': None, 'track': {'album': {'album_type': 'compilation', 'artists': [{'external_urls': {'spotify': 'https://open.spotify.com/artist/0k17h0D3J5VfsdmQ1iZtE9'}, 'href': 'https://api.spotify.com/v1/artists/0k17h0D3J5VfsdmQ1iZtE9', 'id': '0k17h0D3J5VfsdmQ1iZtE9', 'name': 'Pink Floyd', 'type': 'artist', 'uri': 'spotify:artist:0k17h0D3J5VfsdmQ1iZtE9'}], 'available_markets': ['AD', 'AL', 'AM', 'AT', 'AZ', 'BA', 'BE', 'BG', 'BY', 'CH', 'CY', 'CZ', 'DE', 'DK', 'DZ', 'EE', 'ES', 'FI', 'FR', 'GB', 'GE', 'GR', 'HR', 'HU', 'IE', 'IS', 'IT', 'KG', 'KZ', 'LI', 'LT', 'LU', 'LV', 'MA', 'MC', 'MD', 'ME', 'MK', 'MT', 'NL', 'NO', 'PL', 'PT', 'RO', 'RS', 'RU', 'SE', 'SI', 'SK', 'TJ', 'TR', 'UA', 'UZ', 'XK'], 'external_urls': {'spotify': 'https://open.spotify.com/album/15Tc3f1XzDKLodDXDELISe'}, 'href': 'https://api.spotify.com/v1/albums/15Tc3f1XzDKLodDXDELISe', 'id': '15Tc3f1XzDKLodDXDELISe', 'images': [{'height': 640, 'url': 'https://i.scdn.co/image/ab67616d0000b273b3ca136e83344321ebd3de01', 'width': 640}, {'height': 300, 'url': 'https://i.scdn.co/image/ab67616d00001e02b3ca136e83344321ebd3de01', 'width': 300}, {'height': 64, 'url': 'https://i.scdn.co/image/ab67616d00004851b3ca136e83344321ebd3de01', 'width': 64}], 'name': 'A Collection Of Great Dance Songs', 'release_date': '1981-11-01', 'release_date_precision': 'day', 'total_tracks': 6, 'type': 'album', 'uri': 'spotify:album:15Tc3f1XzDKLodDXDELISe'}, 'artists': [{'external_urls': {'spotify': 'https://open.spotify.com/artist/0k17h0D3J5VfsdmQ1iZtE9'}, 'href': 'https://api.spotify.com/v1/artists/0k17h0D3J5VfsdmQ1iZtE9', 'id': '0k17h0D3J5VfsdmQ1iZtE9', 'name': 'Pink Floyd', 'type': 'artist', 'uri': 'spotify:artist:0k17h0D3J5VfsdmQ1iZtE9'}], 'available_markets': ['AD', 'AL', 'AM', 'AT', 'AZ', 'BA', 'BE', 'BG', 'BY', 'CH', 'CY', 'CZ', 'DE', 'DK', 'DZ', 'EE', 'ES', 'FI', 'FR', 'GB', 'GE', 'GR', 'HR', 'HU', 'IE', 'IS', 'IT', 'KG', 'KZ', 'LI', 'LT', 'LU', 'LV', 'MA', 'MC', 'MD', 'ME', 'MK', 'MT', 'NL', 'NO', 'PL', 'PT', 'RO', 'RS', 'RU', 'SE', 'SI', 'SK', 'TJ', 'TR', 'UA', 'UZ', 'XK'], 'disc_number': 1, 'duration_ms': 321080, 'episode': False, 'explicit': False, 'external_ids': {'isrc': 'GBDJQ0100008'}, 'external_urls': {'spotify': 'https://open.spotify.com/track/1HzDhHApjdjXPLHF6GGYhu'}, 'href': 'https://api.spotify.com/v1/tracks/1HzDhHApjdjXPLHF6GGYhu', 'id': '1HzDhHApjdjXPLHF6GGYhu', 'is_local': False, 'name': 'Wish You Were Here', 'popularity': 58, 'preview_url': 'https://p.scdn.co/mp3-preview/95386af0b86f3c03bf5146eab4a7366d0946a601?cid=07f6ced08f1944d49d4357a8e338da91', 'track': True, 'track_number': 5, 'type': 'track', 'uri': 'spotify:track:1HzDhHApjdjXPLHF6GGYhu'}, 'video_thumbnail': {'url': None}}\n",
      "{'added_at': '2020-12-17T17:23:48Z', 'added_by': {'external_urls': {'spotify': 'https://open.spotify.com/user/'}, 'href': 'https://api.spotify.com/v1/users/', 'id': '', 'type': 'user', 'uri': 'spotify:user:'}, 'is_local': False, 'primary_color': None, 'track': {'album': {'album_type': 'album', 'artists': [{'external_urls': {'spotify': 'https://open.spotify.com/artist/0oSGxfWSnnOXhD2fKuz2Gy'}, 'href': 'https://api.spotify.com/v1/artists/0oSGxfWSnnOXhD2fKuz2Gy', 'id': '0oSGxfWSnnOXhD2fKuz2Gy', 'name': 'David Bowie', 'type': 'artist', 'uri': 'spotify:artist:0oSGxfWSnnOXhD2fKuz2Gy'}], 'available_markets': ['AD', 'AE', 'AG', 'AL', 'AM', 'AO', 'AR', 'AT', 'AU', 'AZ', 'BA', 'BB', 'BD', 'BE', 'BF', 'BG', 'BH', 'BI', 'BJ', 'BN', 'BO', 'BR', 'BS', 'BT', 'BW', 'BY', 'BZ', 'CA', 'CD', 'CG', 'CH', 'CI', 'CL', 'CM', 'CO', 'CR', 'CV', 'CW', 'CY', 'CZ', 'DE', 'DJ', 'DK', 'DM', 'DO', 'DZ', 'EC', 'EE', 'EG', 'ES', 'FI', 'FJ', 'FM', 'FR', 'GA', 'GB', 'GD', 'GE', 'GH', 'GM', 'GN', 'GQ', 'GR', 'GT', 'GW', 'GY', 'HK', 'HN', 'HR', 'HT', 'HU', 'ID', 'IE', 'IL', 'IN', 'IQ', 'IS', 'IT', 'JM', 'JO', 'JP', 'KE', 'KG', 'KH', 'KI', 'KM', 'KN', 'KR', 'KW', 'KZ', 'LA', 'LB', 'LC', 'LI', 'LK', 'LR', 'LS', 'LT', 'LU', 'LV', 'LY', 'MA', 'MC', 'MD', 'ME', 'MG', 'MH', 'MK', 'ML', 'MN', 'MO', 'MR', 'MT', 'MU', 'MV', 'MW', 'MX', 'MY', 'MZ', 'NA', 'NE', 'NG', 'NI', 'NL', 'NO', 'NP', 'NR', 'NZ', 'OM', 'PA', 'PE', 'PG', 'PH', 'PK', 'PL', 'PS', 'PT', 'PW', 'PY', 'QA', 'RO', 'RS', 'RU', 'RW', 'SA', 'SB', 'SC', 'SE', 'SG', 'SI', 'SK', 'SL', 'SM', 'SN', 'SR', 'ST', 'SV', 'SZ', 'TD', 'TG', 'TH', 'TJ', 'TL', 'TN', 'TO', 'TR', 'TT', 'TV', 'TW', 'TZ', 'UA', 'UG', 'US', 'UY', 'UZ', 'VC', 'VE', 'VN', 'VU', 'WS', 'XK', 'ZA', 'ZM', 'ZW'], 'external_urls': {'spotify': 'https://open.spotify.com/album/4I5zzKYd2SKDgZ9DRf5LVk'}, 'href': 'https://api.spotify.com/v1/albums/4I5zzKYd2SKDgZ9DRf5LVk', 'id': '4I5zzKYd2SKDgZ9DRf5LVk', 'images': [{'height': 640, 'url': 'https://i.scdn.co/image/ab67616d0000b273bc1c63a5b66ab9ac3ea21672', 'width': 640}, {'height': 300, 'url': 'https://i.scdn.co/image/ab67616d00001e02bc1c63a5b66ab9ac3ea21672', 'width': 300}, {'height': 64, 'url': 'https://i.scdn.co/image/ab67616d00004851bc1c63a5b66ab9ac3ea21672', 'width': 64}], 'name': '\"Heroes\" (2017 Remaster)', 'release_date': '1977', 'release_date_precision': 'year', 'total_tracks': 10, 'type': 'album', 'uri': 'spotify:album:4I5zzKYd2SKDgZ9DRf5LVk'}, 'artists': [{'external_urls': {'spotify': 'https://open.spotify.com/artist/0oSGxfWSnnOXhD2fKuz2Gy'}, 'href': 'https://api.spotify.com/v1/artists/0oSGxfWSnnOXhD2fKuz2Gy', 'id': '0oSGxfWSnnOXhD2fKuz2Gy', 'name': 'David Bowie', 'type': 'artist', 'uri': 'spotify:artist:0oSGxfWSnnOXhD2fKuz2Gy'}], 'available_markets': ['AD', 'AE', 'AG', 'AL', 'AM', 'AO', 'AR', 'AT', 'AU', 'AZ', 'BA', 'BB', 'BD', 'BE', 'BF', 'BG', 'BH', 'BI', 'BJ', 'BN', 'BO', 'BR', 'BS', 'BT', 'BW', 'BY', 'BZ', 'CA', 'CD', 'CG', 'CH', 'CI', 'CL', 'CM', 'CO', 'CR', 'CV', 'CW', 'CY', 'CZ', 'DE', 'DJ', 'DK', 'DM', 'DO', 'DZ', 'EC', 'EE', 'EG', 'ES', 'FI', 'FJ', 'FM', 'FR', 'GA', 'GB', 'GD', 'GE', 'GH', 'GM', 'GN', 'GQ', 'GR', 'GT', 'GW', 'GY', 'HK', 'HN', 'HR', 'HT', 'HU', 'ID', 'IE', 'IL', 'IN', 'IQ', 'IS', 'IT', 'JM', 'JO', 'JP', 'KE', 'KG', 'KH', 'KI', 'KM', 'KN', 'KR', 'KW', 'KZ', 'LA', 'LB', 'LC', 'LI', 'LK', 'LR', 'LS', 'LT', 'LU', 'LV', 'LY', 'MA', 'MC', 'MD', 'ME', 'MG', 'MH', 'MK', 'ML', 'MN', 'MO', 'MR', 'MT', 'MU', 'MV', 'MW', 'MX', 'MY', 'MZ', 'NA', 'NE', 'NG', 'NI', 'NL', 'NO', 'NP', 'NR', 'NZ', 'OM', 'PA', 'PE', 'PG', 'PH', 'PK', 'PL', 'PS', 'PT', 'PW', 'PY', 'QA', 'RO', 'RS', 'RU', 'RW', 'SA', 'SB', 'SC', 'SE', 'SG', 'SI', 'SK', 'SL', 'SM', 'SN', 'SR', 'ST', 'SV', 'SZ', 'TD', 'TG', 'TH', 'TJ', 'TL', 'TN', 'TO', 'TR', 'TT', 'TV', 'TW', 'TZ', 'UA', 'UG', 'US', 'UY', 'UZ', 'VC', 'VE', 'VN', 'VU', 'WS', 'XK', 'ZA', 'ZM', 'ZW'], 'disc_number': 1, 'duration_ms': 371413, 'episode': False, 'explicit': False, 'external_ids': {'isrc': 'USJT11700005'}, 'external_urls': {'spotify': 'https://open.spotify.com/track/7Jh1bpe76CNTCgdgAdBw4Z'}, 'href': 'https://api.spotify.com/v1/tracks/7Jh1bpe76CNTCgdgAdBw4Z', 'id': '7Jh1bpe76CNTCgdgAdBw4Z', 'is_local': False, 'name': 'Heroes - 2017 Remaster', 'popularity': 74, 'preview_url': 'https://p.scdn.co/mp3-preview/92caa5df4a00974b3065c2db0bb284dae528f62a?cid=07f6ced08f1944d49d4357a8e338da91', 'track': True, 'track_number': 3, 'type': 'track', 'uri': 'spotify:track:7Jh1bpe76CNTCgdgAdBw4Z'}, 'video_thumbnail': {'url': None}}\n"
     ]
    }
   ],
   "source": [
    "type(all_tracks)\n",
    "for i in all_tracks[0:10]:\n",
    "    print(i)\n"
   ]
  },
  {
   "cell_type": "code",
   "execution_count": null,
   "id": "724dc52b",
   "metadata": {},
   "outputs": [],
   "source": []
  },
  {
   "cell_type": "code",
   "execution_count": null,
   "id": "ba0b54ee",
   "metadata": {},
   "outputs": [],
   "source": []
  },
  {
   "cell_type": "code",
   "execution_count": null,
   "id": "aca22678",
   "metadata": {},
   "outputs": [],
   "source": []
  },
  {
   "cell_type": "code",
   "execution_count": null,
   "id": "51fac65b",
   "metadata": {},
   "outputs": [],
   "source": []
  }
 ],
 "metadata": {
  "kernelspec": {
   "display_name": "Python 3",
   "language": "python",
   "name": "python3"
  },
  "language_info": {
   "codemirror_mode": {
    "name": "ipython",
    "version": 3
   },
   "file_extension": ".py",
   "mimetype": "text/x-python",
   "name": "python",
   "nbconvert_exporter": "python",
   "pygments_lexer": "ipython3",
   "version": "3.8.8"
  }
 },
 "nbformat": 4,
 "nbformat_minor": 5
}
